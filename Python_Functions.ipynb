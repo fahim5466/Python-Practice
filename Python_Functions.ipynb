{
  "nbformat": 4,
  "nbformat_minor": 0,
  "metadata": {
    "colab": {
      "name": "Python_Functions.ipynb",
      "provenance": [],
      "collapsed_sections": [],
      "authorship_tag": "ABX9TyOMwn5azEC0YBDEPIORQSZG",
      "include_colab_link": true
    },
    "kernelspec": {
      "name": "python3",
      "display_name": "Python 3"
    }
  },
  "cells": [
    {
      "cell_type": "markdown",
      "metadata": {
        "id": "view-in-github",
        "colab_type": "text"
      },
      "source": [
        "<a href=\"https://colab.research.google.com/github/fahim5466/Python-Practice/blob/main/Python_Functions.ipynb\" target=\"_parent\"><img src=\"https://colab.research.google.com/assets/colab-badge.svg\" alt=\"Open In Colab\"/></a>"
      ]
    },
    {
      "cell_type": "code",
      "metadata": {
        "colab": {
          "base_uri": "https://localhost:8080/"
        },
        "id": "DMfyBW6ilBLW",
        "outputId": "f7e3fed6-4a22-4cdf-8589-67b4b24143c5"
      },
      "source": [
        "s = '1234'\n",
        "#z = zip(s,s)\n",
        "z = zip(*[iter(s)]*2)\n",
        "print(list(z))"
      ],
      "execution_count": null,
      "outputs": [
        {
          "output_type": "stream",
          "text": [
            "[('1', '2'), ('3', '4')]\n"
          ],
          "name": "stdout"
        }
      ]
    },
    {
      "cell_type": "code",
      "metadata": {
        "colab": {
          "base_uri": "https://localhost:8080/"
        },
        "id": "eczR0GXjPMgt",
        "outputId": "fe38fd74-8bdd-46b5-b368-9d34db9aadaf"
      },
      "source": [
        "def fib(n):\n",
        "  a, b = 0, 1\n",
        "  print(a,b,end=' ') #end can be used to end output with something other than newline\n",
        "  for i in range(n):\n",
        "    a, b = b, a+b\n",
        "    print(b, end=' ')\n",
        "  print() #newline\n",
        "\n",
        "fib(3)\n",
        "fib(5)"
      ],
      "execution_count": null,
      "outputs": [
        {
          "output_type": "stream",
          "text": [
            "0 1 1 2 3 \n",
            "0 1 1 2 3 5 8 \n"
          ],
          "name": "stdout"
        }
      ]
    },
    {
      "cell_type": "code",
      "metadata": {
        "colab": {
          "base_uri": "https://localhost:8080/"
        },
        "id": "RQOrVy5oQJzo",
        "outputId": "25143181-95b8-4142-9b4e-7aa41483ec86"
      },
      "source": [
        "f = fib\n",
        "f(5)\n",
        "print(f(3)) #if no return value is specified 'None' is returned"
      ],
      "execution_count": null,
      "outputs": [
        {
          "output_type": "stream",
          "text": [
            "0 1 1 2 3 5 8 \n",
            "0 1 1 2 3 \n",
            "None\n"
          ],
          "name": "stdout"
        }
      ]
    },
    {
      "cell_type": "code",
      "metadata": {
        "colab": {
          "base_uri": "https://localhost:8080/"
        },
        "id": "4KLg88LrTrIV",
        "outputId": "9ece5351-bd89-41fb-fa20-0729079aa583"
      },
      "source": [
        "def print_three_strings(a='No',b='string', c='provided'):\n",
        "  print(a,b,c)\n",
        "print_three_strings()\n",
        "print_three_strings('one')\n",
        "print_three_strings('two','strings')\n",
        "print_three_strings('python','is','nice')\n",
        "#keyword arguments must follow positional arguments. Order of keyword arguments doesn't matter\n",
        "print_three_strings('python',b='is',c='awesome')\n",
        "print_three_strings('I like',c='theory')"
      ],
      "execution_count": null,
      "outputs": [
        {
          "output_type": "stream",
          "text": [
            "No string provided\n",
            "one string provided\n",
            "two strings provided\n",
            "python is nice\n",
            "python is awesome\n",
            "I like string theory\n"
          ],
          "name": "stdout"
        }
      ]
    },
    {
      "cell_type": "code",
      "metadata": {
        "colab": {
          "base_uri": "https://localhost:8080/"
        },
        "id": "BpRN94d1V7JC",
        "outputId": "457b1cd4-ea15-40cc-8d4e-5afcf4d4616a"
      },
      "source": [
        "def foo(arg1, *pos_args):\n",
        "  print('I like',arg1,end='')\n",
        "  for arg in pos_args:\n",
        "    print(', ',arg,end='')\n",
        "\n",
        "foo('Butter','Jam','Jelly')"
      ],
      "execution_count": null,
      "outputs": [
        {
          "output_type": "stream",
          "text": [
            "I like Butter,  Jam,  Jelly"
          ],
          "name": "stdout"
        }
      ]
    },
    {
      "cell_type": "code",
      "metadata": {
        "colab": {
          "base_uri": "https://localhost:8080/"
        },
        "id": "ojKIqSeCXiyR",
        "outputId": "b1c22370-a399-42db-b4f0-f9d7ef95690d"
      },
      "source": [
        "def foo(toast='buttered', **key_args):\n",
        "  print('toast is',toast)\n",
        "  for arg in key_args:\n",
        "    print(arg,'is',key_args[arg])\n",
        "\n",
        "foo(coffee='warm',bacon='crispy')"
      ],
      "execution_count": null,
      "outputs": [
        {
          "output_type": "stream",
          "text": [
            "toast is buttered\n",
            "coffee is warm\n",
            "bacon is crispy\n"
          ],
          "name": "stdout"
        }
      ]
    },
    {
      "cell_type": "code",
      "metadata": {
        "id": "iSMm5KHutdSC"
      },
      "source": [
        "#if / is  present as an argument in a function definition, the arguments before / become positional only\n",
        "#if * is present as an argument in a function definition, the arguments after * become keyword only\n",
        "\n",
        "#Note! this is only applicable for python 3.9. Colab uses version 3.6.9. So as of now, the following code will not work in colab\n",
        "\n",
        "def standard(arg):\n",
        "  print(arg)\n",
        "#both works\n",
        "standard(1)\n",
        "standard(arg=1)\n",
        "\n",
        "def pos_only(pos_arg, /, arg):\n",
        "  print(pos_arg, arg)\n",
        "pos_only(1, 2)\n",
        "pos_only(1, arg=2)\n",
        "#this won't work\n",
        "pos_only(pos_arg=1, 2)\n",
        "\n",
        "def kwd_only(arg, *, kwd_arg):\n",
        "  print(arg, kwd_arg)\n",
        "kwd_only(1, kwd_arg=2)\n",
        "kwd_only(arg=1, kwd_arg=2)\n",
        "#this won't work\n",
        "kwd_only(1, 2)"
      ],
      "execution_count": null,
      "outputs": []
    },
    {
      "cell_type": "code",
      "metadata": {
        "colab": {
          "base_uri": "https://localhost:8080/"
        },
        "id": "0BBMnygtzyS6",
        "outputId": "931336a1-391b-4d0d-83ec-7bbaaf601edd"
      },
      "source": [
        "#argument unpacking\n",
        "def sum_of_square(a, b):\n",
        "  print(a**2+b**2)\n",
        "\n",
        "list_of_args = [[2,3],[2,4],[3,4]]\n",
        "for args in list_of_args:\n",
        "  sum_of_square(*args)\n",
        "\n",
        "def print_name(firstname='John', lastname='Doe'):\n",
        "  print(firstname, lastname)\n",
        "\n",
        "myName = {'firstname': 'David', 'lastname': 'Beckham'}\n",
        "print_name(**myName)"
      ],
      "execution_count": null,
      "outputs": [
        {
          "output_type": "stream",
          "text": [
            "13\n",
            "20\n",
            "25\n",
            "David Beckham\n"
          ],
          "name": "stdout"
        }
      ]
    },
    {
      "cell_type": "code",
      "metadata": {
        "colab": {
          "base_uri": "https://localhost:8080/"
        },
        "id": "anWiWyxF1T8I",
        "outputId": "93a57650-5978-4866-d348-63a34e0844e4"
      },
      "source": [
        "#lambda expressions\n",
        "\n",
        "def power_func_generator(n):\n",
        "  return lambda x: x**n\n",
        "\n",
        "square = power_func_generator(2)\n",
        "cube = power_func_generator(3)\n",
        "\n",
        "print(square(2))\n",
        "print(cube(2))\n",
        "\n",
        "squares = map(lambda x: x**2, [1,2,3,4,5])\n",
        "print(list(squares))\n",
        "\n",
        "#lambda functions can only contain a single expression. So for example there can't be any print statements"
      ],
      "execution_count": null,
      "outputs": [
        {
          "output_type": "stream",
          "text": [
            "4\n",
            "8\n",
            "[1, 4, 9, 16, 25]\n"
          ],
          "name": "stdout"
        }
      ]
    },
    {
      "cell_type": "code",
      "metadata": {
        "colab": {
          "base_uri": "https://localhost:8080/",
          "height": 54
        },
        "id": "2DY5QuYmB0q9",
        "outputId": "f585e6ba-b6d4-45cd-8fe4-36b5bfa74e5b"
      },
      "source": [
        "#function annotations\n",
        "#annotations provide metadata info about argument and return types\n",
        "#annotations are stored in the __annotations__ attribute of the function as a dictionary\n",
        "\n",
        "def f(a: str, b: str = 'world') -> str:\n",
        "  print(f.__annotations__)\n",
        "  return a+' '+b\n",
        "\n",
        "f('hello')"
      ],
      "execution_count": null,
      "outputs": [
        {
          "output_type": "stream",
          "text": [
            "{'a': <class 'str'>, 'b': <class 'str'>, 'return': <class 'str'>}\n"
          ],
          "name": "stdout"
        },
        {
          "output_type": "execute_result",
          "data": {
            "application/vnd.google.colaboratory.intrinsic+json": {
              "type": "string"
            },
            "text/plain": [
              "'hello world'"
            ]
          },
          "metadata": {
            "tags": []
          },
          "execution_count": 3
        }
      ]
    }
  ]
}