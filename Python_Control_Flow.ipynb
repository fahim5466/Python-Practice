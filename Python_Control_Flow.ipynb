{
  "nbformat": 4,
  "nbformat_minor": 0,
  "metadata": {
    "colab": {
      "name": "Python_Control_Flow.ipynb",
      "provenance": [],
      "collapsed_sections": [],
      "authorship_tag": "ABX9TyMOCZaU6fsxEOBkLgPI/G9S",
      "include_colab_link": true
    },
    "kernelspec": {
      "name": "python3",
      "display_name": "Python 3"
    }
  },
  "cells": [
    {
      "cell_type": "markdown",
      "metadata": {
        "id": "view-in-github",
        "colab_type": "text"
      },
      "source": [
        "<a href=\"https://colab.research.google.com/github/fahim5466/Python-Practice/blob/main/Python_Control_Flow.ipynb\" target=\"_parent\"><img src=\"https://colab.research.google.com/assets/colab-badge.svg\" alt=\"Open In Colab\"/></a>"
      ]
    },
    {
      "cell_type": "code",
      "metadata": {
        "colab": {
          "base_uri": "https://localhost:8080/"
        },
        "id": "WR4pTPQCLOdK",
        "outputId": "39e5c825-e7f2-473b-c1c2-70bfbb8d13fa"
      },
      "source": [
        "n = [-1,-2,0,1,2]\n",
        "for x in n:\n",
        "  if x < 0:\n",
        "    print(\"Negative\")\n",
        "  elif x == 0:\n",
        "    print(\"Zero\")\n",
        "  else:\n",
        "    print(\"Positive\")"
      ],
      "execution_count": null,
      "outputs": [
        {
          "output_type": "stream",
          "text": [
            "Negative\n",
            "Negative\n",
            "Zero\n",
            "Positive\n",
            "Positive\n"
          ],
          "name": "stdout"
        }
      ]
    },
    {
      "cell_type": "code",
      "metadata": {
        "colab": {
          "base_uri": "https://localhost:8080/"
        },
        "id": "yxpuIoBUL8jV",
        "outputId": "56ad6a3f-31b4-4d21-c157-c8d48fc0d367"
      },
      "source": [
        "strings = ['Mary', 'had', 'a', 'little', 'lamb']\n",
        "for i, s in enumerate(strings):\n",
        "  print('{}th string is'.format(i), s)"
      ],
      "execution_count": null,
      "outputs": [
        {
          "output_type": "stream",
          "text": [
            "0th string is Mary\n",
            "1th string is had\n",
            "2th string is a\n",
            "3th string is little\n",
            "4th string is lamb\n"
          ],
          "name": "stdout"
        }
      ]
    },
    {
      "cell_type": "code",
      "metadata": {
        "colab": {
          "base_uri": "https://localhost:8080/"
        },
        "id": "CPoNExwuNQF9",
        "outputId": "d41469af-56f7-4fb6-831b-a96c359558e1"
      },
      "source": [
        "#here the else cause belongs to the inner for loop\n",
        "#when used with a for loop, the else clause is executed when the loop completes normally\n",
        "#if the loop is interrupted by a break statement, the else clause will be ignored\n",
        "for n in range(2,10):\n",
        "  for x in range(2, n):\n",
        "    if n%x==0:\n",
        "      print(n, \"is not a prime number because it can be divided by\", x)\n",
        "      break;\n",
        "  else:\n",
        "    print(n, \"is a prime number\")"
      ],
      "execution_count": null,
      "outputs": [
        {
          "output_type": "stream",
          "text": [
            "2 is a prime number\n",
            "3 is a prime number\n",
            "4 is not a prime number because it can be divided by 2\n",
            "5 is a prime number\n",
            "6 is not a prime number because it can be divided by 2\n",
            "7 is a prime number\n",
            "8 is not a prime number because it can be divided by 2\n",
            "9 is not a prime number because it can be divided by 3\n"
          ],
          "name": "stdout"
        }
      ]
    }
  ]
}