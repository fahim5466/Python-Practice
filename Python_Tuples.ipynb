{
  "nbformat": 4,
  "nbformat_minor": 0,
  "metadata": {
    "colab": {
      "name": "Python_Tuples.ipynb",
      "provenance": [],
      "collapsed_sections": [],
      "authorship_tag": "ABX9TyP6Zrx1PX4MMyMojZLeRW8X",
      "include_colab_link": true
    },
    "kernelspec": {
      "name": "python3",
      "display_name": "Python 3"
    }
  },
  "cells": [
    {
      "cell_type": "markdown",
      "metadata": {
        "id": "view-in-github",
        "colab_type": "text"
      },
      "source": [
        "<a href=\"https://colab.research.google.com/github/fahim5466/Python-Practice/blob/main/Python_Tuples.ipynb\" target=\"_parent\"><img src=\"https://colab.research.google.com/assets/colab-badge.svg\" alt=\"Open In Colab\"/></a>"
      ]
    },
    {
      "cell_type": "code",
      "metadata": {
        "colab": {
          "base_uri": "https://localhost:8080/"
        },
        "id": "MxHDXiChX2ol",
        "outputId": "27ce9106-3c8d-497d-da8e-23d53917b8b8"
      },
      "source": [
        "#python tuples are immutable sequences of heterogenous(usually) data\n",
        "t = (1, 'string', False)\n",
        "print(t)\n",
        "print(t[0])\n",
        "nested_t = (t, (2, 'hello'))\n",
        "print(nested_t)\n",
        "#t[0] = 2 #won't work\n",
        "#t.append(3) #you can't append to or remove from tuples as they are immutable\n",
        "t = ([1,2],['hello','world']) #but can contain mutable objects\n",
        "print(t)\n",
        "t[0][1] = 1\n",
        "print(t)"
      ],
      "execution_count": null,
      "outputs": [
        {
          "output_type": "stream",
          "text": [
            "(1, 'string', False)\n",
            "1\n",
            "((1, 'string', False), (2, 'hello'))\n",
            "([1, 2], ['hello', 'world'])\n",
            "([1, 1], ['hello', 'world'])\n"
          ],
          "name": "stdout"
        }
      ]
    },
    {
      "cell_type": "code",
      "metadata": {
        "colab": {
          "base_uri": "https://localhost:8080/"
        },
        "id": "hEpR38IaZd0D",
        "outputId": "b35e8c76-730b-400e-ce98-eea98d8993ed"
      },
      "source": [
        "#empty tuple is declared with ()\n",
        "emp = ()\n",
        "print(emp)\n",
        "#singleton tuple is declared with trailing comma\n",
        "singleton = (1,)\n",
        "print(singleton)"
      ],
      "execution_count": null,
      "outputs": [
        {
          "output_type": "stream",
          "text": [
            "()\n",
            "(1,)\n"
          ],
          "name": "stdout"
        }
      ]
    }
  ]
}