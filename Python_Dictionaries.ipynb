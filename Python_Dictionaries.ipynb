{
  "nbformat": 4,
  "nbformat_minor": 0,
  "metadata": {
    "colab": {
      "name": "Python_Dictionaries.ipynb",
      "provenance": [],
      "authorship_tag": "ABX9TyNtzU+jX15j1U+i7AD+OBvi",
      "include_colab_link": true
    },
    "kernelspec": {
      "name": "python3",
      "display_name": "Python 3"
    }
  },
  "cells": [
    {
      "cell_type": "markdown",
      "metadata": {
        "id": "view-in-github",
        "colab_type": "text"
      },
      "source": [
        "<a href=\"https://colab.research.google.com/github/fahim5466/Python-Practice/blob/main/Python_Dictionaries.ipynb\" target=\"_parent\"><img src=\"https://colab.research.google.com/assets/colab-badge.svg\" alt=\"Open In Colab\"/></a>"
      ]
    },
    {
      "cell_type": "code",
      "metadata": {
        "colab": {
          "base_uri": "https://localhost:8080/"
        },
        "id": "MgQQgnA1fhPc",
        "outputId": "f5dea43e-f805-441d-de16-33dc38f3394d"
      },
      "source": [
        "#different ways of creating dicts\n",
        "d1 = {'firstname': 'Harry', 'lastname': 'Potter'}\n",
        "print(d1)\n",
        "d2 = dict([('apple', 10), ('orange', 20)])\n",
        "print(d2)\n",
        "d3 = dict(butter='toasted', bacon='crispy')\n",
        "print(d3)\n",
        "d4 = {x:x**2 for x in range(4)}\n",
        "print(d4)\n",
        "#use dict() or {} to create empty dict\n",
        "d = {}\n",
        "print(d)"
      ],
      "execution_count": null,
      "outputs": [
        {
          "output_type": "stream",
          "text": [
            "{'firstname': 'Harry', 'lastname': 'Potter'}\n",
            "{'apple': 10, 'orange': 20}\n",
            "{'butter': 'toasted', 'bacon': 'crispy'}\n",
            "{0: 0, 1: 1, 2: 4, 3: 9}\n",
            "{}\n"
          ],
          "name": "stdout"
        }
      ]
    },
    {
      "cell_type": "code",
      "metadata": {
        "colab": {
          "base_uri": "https://localhost:8080/"
        },
        "id": "sp7ZKR8DJXni",
        "outputId": "64d466ad-c327-4de6-9f74-c0f0978bae22"
      },
      "source": [
        "d['a'] = 1\n",
        "d['b'] = 2\n",
        "d['c'] = 3\n",
        "print(d)\n",
        "del d['c']\n",
        "print(d)\n",
        "print('a' in d)\n",
        "print('c' not in d)\n",
        "print(d.get('c')) #get returns None if key does not exist"
      ],
      "execution_count": null,
      "outputs": [
        {
          "output_type": "stream",
          "text": [
            "{'a': 1, 'b': 2, 'c': 3}\n",
            "{'a': 1, 'b': 2}\n",
            "True\n",
            "True\n",
            "None\n"
          ],
          "name": "stdout"
        }
      ]
    },
    {
      "cell_type": "code",
      "metadata": {
        "colab": {
          "base_uri": "https://localhost:8080/"
        },
        "id": "3qM89mniDWWk",
        "outputId": "e1f32fc3-4a73-4524-939f-ea3732922a08"
      },
      "source": [
        "#looping\n",
        "for k, v in d.items():\n",
        "  print('{} -> {}'.format(k,v))"
      ],
      "execution_count": null,
      "outputs": [
        {
          "output_type": "stream",
          "text": [
            "a -> 1\n",
            "b -> 2\n"
          ],
          "name": "stdout"
        }
      ]
    }
  ]
}