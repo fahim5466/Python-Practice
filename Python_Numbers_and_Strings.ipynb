{
  "nbformat": 4,
  "nbformat_minor": 0,
  "metadata": {
    "colab": {
      "name": "Python_Numbers and Strings.ipynb",
      "provenance": [],
      "collapsed_sections": [],
      "authorship_tag": "ABX9TyOm5lqj0R2t9yujQOzxbkRV",
      "include_colab_link": true
    },
    "kernelspec": {
      "name": "python3",
      "display_name": "Python 3"
    }
  },
  "cells": [
    {
      "cell_type": "markdown",
      "metadata": {
        "id": "view-in-github",
        "colab_type": "text"
      },
      "source": [
        "<a href=\"https://colab.research.google.com/github/fahim5466/Python-Practice/blob/main/Python_Numbers_and_Strings.ipynb\" target=\"_parent\"><img src=\"https://colab.research.google.com/assets/colab-badge.svg\" alt=\"Open In Colab\"/></a>"
      ]
    },
    {
      "cell_type": "code",
      "metadata": {
        "colab": {
          "base_uri": "https://localhost:8080/"
        },
        "id": "xDWGhYy0UiGu",
        "outputId": "2b7af672-c25e-4c04-8fad-1d7c8843d5fb"
      },
      "source": [
        "#Division in pythons always returns float\r\n",
        "print(12/5)\r\n",
        "\r\n",
        "# // operator performs floor division and returns int\r\n",
        "print(12//5)\r\n",
        "\r\n",
        "# ** operator performs power operation\r\n",
        "print(3**2)"
      ],
      "execution_count": null,
      "outputs": [
        {
          "output_type": "stream",
          "text": [
            "2.4\n",
            "2\n",
            "9\n"
          ],
          "name": "stdout"
        }
      ]
    },
    {
      "cell_type": "code",
      "metadata": {
        "colab": {
          "base_uri": "https://localhost:8080/"
        },
        "id": "YpzKkHwnHMbO",
        "outputId": "90311f20-c634-4e26-f329-b761920fe744"
      },
      "source": [
        "#Both single and double qoutes can be used for strings but it has to be escaped with backslash inside the string\r\n",
        "print('doesn\\'t')\r\n",
        "print(\"doesn't\")\r\n",
        "print(\"\\\"Yes\\\", they said\")\r\n",
        "print('\"Yes\", they said')\r\n",
        "print('\"doesn\\'t\", they said')\r\n",
        "print('C:\\\\users\\\\local\\\\bin')"
      ],
      "execution_count": null,
      "outputs": [
        {
          "output_type": "stream",
          "text": [
            "doesn't\n",
            "doesn't\n",
            "\"Yes\", they said\n",
            "\"Yes\", they said\n",
            "\"doesn't\", they said\n",
            "C:\\users\\local\\bin\n"
          ],
          "name": "stdout"
        }
      ]
    },
    {
      "cell_type": "code",
      "metadata": {
        "colab": {
          "base_uri": "https://localhost:8080/"
        },
        "id": "3hj7bko_MX4X",
        "outputId": "9b6e406b-545e-4121-e8f9-0b7d2db43b64"
      },
      "source": [
        "#String literals can span multiple lines. One way is using triple-quotes: \"\"\"...\"\"\" or '''...'''. \r\n",
        "#End of lines are automatically included in the string, but it’s possible to prevent this by adding a \\ at the end of the line.\r\n",
        "print(\"\"\"\\\r\n",
        "Hello\r\n",
        "I\r\n",
        "am\\\r\n",
        " a\r\n",
        "multiline\r\n",
        "string\r\n",
        "\"\"\")"
      ],
      "execution_count": null,
      "outputs": [
        {
          "output_type": "stream",
          "text": [
            "Hello\n",
            "I\n",
            "am a\n",
            "multiline\n",
            "string\n",
            "\n"
          ],
          "name": "stdout"
        }
      ]
    },
    {
      "cell_type": "code",
      "metadata": {
        "colab": {
          "base_uri": "https://localhost:8080/"
        },
        "id": "thODyxh3OcaA",
        "outputId": "3c4fb85b-acdf-44fb-cfd0-9972636842b3"
      },
      "source": [
        "# * can be used to repeat a string\r\n",
        "print(4*'Hello')\r\n",
        "\r\n",
        "# negative indexes count from the right\r\n",
        "s = 'Hello World'\r\n",
        "print(s[-1], s[-3])\r\n",
        "\r\n",
        "# range index\r\n",
        "print(s[2:5]) #starting from 2(included) to 5(excluded)"
      ],
      "execution_count": null,
      "outputs": [
        {
          "output_type": "stream",
          "text": [
            "HelloHelloHelloHello\n",
            "d r\n",
            "llo\n"
          ],
          "name": "stdout"
        }
      ]
    },
    {
      "cell_type": "code",
      "metadata": {
        "id": "FmrWsWGIPwXF"
      },
      "source": [
        "#Python strings are immutable. So for example this isn't allowed:\r\n",
        "s = 'Hello'\r\n",
        "s[0]='J'"
      ],
      "execution_count": null,
      "outputs": []
    },
    {
      "cell_type": "code",
      "metadata": {
        "colab": {
          "base_uri": "https://localhost:8080/"
        },
        "id": "rLSDBiaXQIvF",
        "outputId": "115e53cc-4fbf-42e1-c308-2e86838e463d"
      },
      "source": [
        "#You have to do it like this\r\n",
        "s = 'J' + s[1:]\r\n",
        "print(s)"
      ],
      "execution_count": null,
      "outputs": [
        {
          "output_type": "stream",
          "text": [
            "Jello\n"
          ],
          "name": "stdout"
        }
      ]
    },
    {
      "cell_type": "code",
      "metadata": {
        "colab": {
          "base_uri": "https://localhost:8080/"
        },
        "id": "R7f5XaQNSH8X",
        "outputId": "3b62fa5e-a909-4311-bda7-e9b831bdf63b"
      },
      "source": [
        "s = 'Hello World'\r\n",
        "print(s.center(len(s)+4))\r\n",
        "print(s.center(len(s)+10, '_'))"
      ],
      "execution_count": null,
      "outputs": [
        {
          "output_type": "stream",
          "text": [
            "  Hello World  \n",
            "_____Hello World_____\n"
          ],
          "name": "stdout"
        }
      ]
    },
    {
      "cell_type": "code",
      "metadata": {
        "colab": {
          "base_uri": "https://localhost:8080/"
        },
        "id": "_gL78Hs9TR5k",
        "outputId": "59aead19-5385-4b96-f4cf-0b0767002a2f"
      },
      "source": [
        "s = 'ab___abab__a_adab'\r\n",
        "print(s.count('ab'))\r\n",
        "print(s.count('ab', 1, -1))\r\n",
        "print(s.find('ab', 1, -1))\r\n",
        "print('ab' in s)"
      ],
      "execution_count": null,
      "outputs": [
        {
          "output_type": "stream",
          "text": [
            "4\n",
            "2\n",
            "5\n",
            "True\n"
          ],
          "name": "stdout"
        }
      ]
    },
    {
      "cell_type": "code",
      "metadata": {
        "colab": {
          "base_uri": "https://localhost:8080/"
        },
        "id": "n-EkM1miUUy6",
        "outputId": "daa30b80-b668-47e7-c560-a7c492d77698"
      },
      "source": [
        "ss = ['Wordly','Largely','Vocation','Vacation','Hello']\r\n",
        "count = 0\r\n",
        "for  s in ss:\r\n",
        "  if(s.endswith(('ly','tion'))):\r\n",
        "    count+=1\r\n",
        "print(count)"
      ],
      "execution_count": null,
      "outputs": [
        {
          "output_type": "stream",
          "text": [
            "4\n"
          ],
          "name": "stdout"
        }
      ]
    },
    {
      "cell_type": "code",
      "metadata": {
        "colab": {
          "base_uri": "https://localhost:8080/"
        },
        "id": "Qh1UBX8LXMvr",
        "outputId": "c1f4dc62-144a-4b89-ac76-dddbcbdd88eb"
      },
      "source": [
        "print('{}, {}, {}'.format('a','b','c'))\r\n",
        "print('{0}, {1}, {2}'.format('a','b','c'))\r\n",
        "print('{2}, {1}, {0}'.format('a','b','c'))\r\n",
        "print('{0}, {1}, {0}'.format('a','b','c'))\r\n",
        "print('My name is {firstname} {lastname}'.format(firstname='Jane', lastname='Doe'))\r\n",
        "#Escaping braces\r\n",
        "print('My name is {{Bracey}} {{Braceton}}')"
      ],
      "execution_count": null,
      "outputs": [
        {
          "output_type": "stream",
          "text": [
            "a, b, c\n",
            "a, b, c\n",
            "c, b, a\n",
            "a, b, a\n",
            "My name is Jane Doe\n",
            "My name is {{Bracey}} {{Braceton}}\n"
          ],
          "name": "stdout"
        }
      ]
    },
    {
      "cell_type": "code",
      "metadata": {
        "colab": {
          "base_uri": "https://localhost:8080/"
        },
        "id": "tigi1aq_64wG",
        "outputId": "da4593b9-e2eb-4aa8-9f41-b90c95be6c44"
      },
      "source": [
        "ss = ['Hello','World','!']\r\n",
        "print(' '.join(ss))\r\n",
        "print('_'.join(ss))"
      ],
      "execution_count": 1,
      "outputs": [
        {
          "output_type": "stream",
          "text": [
            "Hello World !\n",
            "Hello_World_!\n"
          ],
          "name": "stdout"
        }
      ]
    },
    {
      "cell_type": "code",
      "metadata": {
        "colab": {
          "base_uri": "https://localhost:8080/"
        },
        "id": "zhR3NBcc7dqt",
        "outputId": "708f7730-d2bf-43f2-e8fc-93e2f59d4531"
      },
      "source": [
        "s = 'www.google.com'\r\n",
        "print(s.lstrip('w.')) #removes leading characters matching any of those in the input string\r\n",
        "s = '   Hello   '\r\n",
        "print(s.lstrip()) #defaults to removing whitespace\r\n",
        "s= '  %www.google.com  '\r\n",
        "print(s.strip(' %')) #similar to lstrip but also removes trailing characters"
      ],
      "execution_count": 3,
      "outputs": [
        {
          "output_type": "stream",
          "text": [
            "google.com\n",
            "Hello   \n",
            "www.google.com\n"
          ],
          "name": "stdout"
        }
      ]
    },
    {
      "cell_type": "code",
      "metadata": {
        "colab": {
          "base_uri": "https://localhost:8080/"
        },
        "id": "4PuY5WP69szM",
        "outputId": "2008aba8-d858-4ab0-d7dc-7a491f0365c2"
      },
      "source": [
        "s = 'peepee poopoo'\r\n",
        "print(s.replace('pee','poo'))"
      ],
      "execution_count": 1,
      "outputs": [
        {
          "output_type": "stream",
          "text": [
            "poopoo poopoo\n"
          ],
          "name": "stdout"
        }
      ]
    },
    {
      "cell_type": "code",
      "metadata": {
        "colab": {
          "base_uri": "https://localhost:8080/"
        },
        "id": "_inRCb3zq4Y0",
        "outputId": "ed9f24c3-696a-4989-d419-89b16f879811"
      },
      "source": [
        "s = \"1, 2, 3\"\r\n",
        "print(s.split(', '))"
      ],
      "execution_count": 2,
      "outputs": [
        {
          "output_type": "stream",
          "text": [
            "['1', '2', '3']\n"
          ],
          "name": "stdout"
        }
      ]
    },
    {
      "cell_type": "code",
      "metadata": {
        "colab": {
          "base_uri": "https://localhost:8080/"
        },
        "id": "EUrGe0twB5UC",
        "outputId": "103b41af-d6f5-49b5-d508-4f645a37ee38"
      },
      "source": [
        "s = 'visual question answering survey'\r\n",
        "print(s.title())"
      ],
      "execution_count": 5,
      "outputs": [
        {
          "output_type": "stream",
          "text": [
            "Visual Question Answering Survey\n"
          ],
          "name": "stdout"
        }
      ]
    }
  ]
}