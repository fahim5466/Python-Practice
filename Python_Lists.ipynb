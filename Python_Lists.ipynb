{
  "nbformat": 4,
  "nbformat_minor": 0,
  "metadata": {
    "colab": {
      "name": "Python_Lists.ipynb",
      "provenance": [],
      "collapsed_sections": [],
      "authorship_tag": "ABX9TyPxTip9WH7nz2SF0nhe93TS",
      "include_colab_link": true
    },
    "kernelspec": {
      "name": "python3",
      "display_name": "Python 3"
    }
  },
  "cells": [
    {
      "cell_type": "markdown",
      "metadata": {
        "id": "view-in-github",
        "colab_type": "text"
      },
      "source": [
        "<a href=\"https://colab.research.google.com/github/fahim5466/Python-Practice/blob/main/Python_Lists.ipynb\" target=\"_parent\"><img src=\"https://colab.research.google.com/assets/colab-badge.svg\" alt=\"Open In Colab\"/></a>"
      ]
    },
    {
      "cell_type": "code",
      "metadata": {
        "colab": {
          "base_uri": "https://localhost:8080/"
        },
        "id": "ePX2IUx3FJvp",
        "outputId": "f052277c-31f7-4cb6-ac14-1153d396c841"
      },
      "source": [
        "#python lists are mutable sequences of homogenous(usually) data\n",
        "squares = [1, 4, 9, 16, 25]\n",
        "print(squares)\n",
        "mixed = [1, 'hello', 3.0, True]\n",
        "print(mixed)"
      ],
      "execution_count": null,
      "outputs": [
        {
          "output_type": "stream",
          "text": [
            "[1, 4, 9, 16, 25]\n",
            "[1, 'hello', 3.0, True]\n"
          ],
          "name": "stdout"
        }
      ]
    },
    {
      "cell_type": "code",
      "metadata": {
        "colab": {
          "base_uri": "https://localhost:8080/"
        },
        "id": "VpZng4rjFXQR",
        "outputId": "52a5bd43-8e28-4293-c4fe-e19c37fbdb80"
      },
      "source": [
        "print(squares[1:])\n",
        "print(squares[-3])\n",
        "print(squares[-2:])\n",
        "print(squares[2:4])\n",
        "print(squares[::2])"
      ],
      "execution_count": null,
      "outputs": [
        {
          "output_type": "stream",
          "text": [
            "[4, 9, 16, 25]\n",
            "9\n",
            "[16, 25]\n",
            "[9, 16]\n",
            "[1, 9, 25]\n"
          ],
          "name": "stdout"
        }
      ]
    },
    {
      "cell_type": "code",
      "metadata": {
        "colab": {
          "base_uri": "https://localhost:8080/"
        },
        "id": "cHB3jBzgFtX7",
        "outputId": "e0d1bdfa-adb4-4f80-d0d8-8a1aea4d370c"
      },
      "source": [
        "squares += [36]\n",
        "squares"
      ],
      "execution_count": null,
      "outputs": [
        {
          "output_type": "execute_result",
          "data": {
            "text/plain": [
              "[1, 4, 9, 16, 25, 36]"
            ]
          },
          "metadata": {
            "tags": []
          },
          "execution_count": 4
        }
      ]
    },
    {
      "cell_type": "code",
      "metadata": {
        "colab": {
          "base_uri": "https://localhost:8080/"
        },
        "id": "G9w7oSaFF5ap",
        "outputId": "bc0581ad-fc9e-4506-aa19-086f19b300bb"
      },
      "source": [
        "#assignment is also possible through slicing\n",
        "letters = ['a', 'b', 'c', 'd', 'e']\n",
        "letters[2:4] = ['C', 'D']\n",
        "print(letters)\n",
        "letters[1:3] = []\n",
        "print(letters)"
      ],
      "execution_count": null,
      "outputs": [
        {
          "output_type": "stream",
          "text": [
            "['a', 'b', 'C', 'D', 'e']\n",
            "['a', 'D', 'e']\n"
          ],
          "name": "stdout"
        }
      ]
    },
    {
      "cell_type": "code",
      "metadata": {
        "colab": {
          "base_uri": "https://localhost:8080/"
        },
        "id": "VBUzPfeKGfc-",
        "outputId": "bfa9dca7-4a7f-41aa-92cd-53bfa41e719f"
      },
      "source": [
        "#nesting\n",
        "squares = [1, 4, 9, 16, 25]\n",
        "letters = ['a', 'b', 'c', 'd', 'e']\n",
        "lists = [squares, letters]\n",
        "print(lists)\n",
        "print(lists[0])\n",
        "print(lists[1][2])"
      ],
      "execution_count": null,
      "outputs": [
        {
          "output_type": "stream",
          "text": [
            "[[1, 4, 9, 16, 25], ['a', 'b', 'c', 'd', 'e']]\n",
            "[1, 4, 9, 16, 25]\n",
            "c\n"
          ],
          "name": "stdout"
        }
      ]
    },
    {
      "cell_type": "code",
      "metadata": {
        "colab": {
          "base_uri": "https://localhost:8080/"
        },
        "id": "uoqPigBcIppd",
        "outputId": "602a6213-546b-4d1d-c39c-7432d7ea3c70"
      },
      "source": [
        "letters = ['a', 'b', 'c']\n",
        "more_letters = letters*3\n",
        "print(more_letters)\n",
        "more_letters[0] = 'd'\n",
        "print(more_letters)"
      ],
      "execution_count": null,
      "outputs": [
        {
          "output_type": "stream",
          "text": [
            "['a', 'b', 'c', 'a', 'b', 'c', 'a', 'b', 'c']\n",
            "['d', 'b', 'c', 'a', 'b', 'c', 'a', 'b', 'c']\n"
          ],
          "name": "stdout"
        }
      ]
    },
    {
      "cell_type": "code",
      "metadata": {
        "colab": {
          "base_uri": "https://localhost:8080/"
        },
        "id": "Q6fzt7HwJzy-",
        "outputId": "5c1de427-9fff-4df4-c63d-50ce7bb7cdc0"
      },
      "source": [
        "n = [1,2,3]\n",
        "m = n.copy()\n",
        "print(m)\n",
        "n.clear()\n",
        "print(n)\n",
        "m.pop(1) #item is removed and returned. Last item is popped if no argument provided\n",
        "print(m)\n",
        "m.append(3)\n",
        "print(m)\n",
        "m.remove(3) #removes the first occurence\n",
        "print(m)\n",
        "m.reverse()\n",
        "print(m)\n",
        "m.sort()\n",
        "print(m)\n",
        "m.insert(1, 2)\n",
        "print(m)\n",
        "del m[2] #item is removed but not returned\n",
        "print(m)"
      ],
      "execution_count": null,
      "outputs": [
        {
          "output_type": "stream",
          "text": [
            "[1, 2, 3]\n",
            "[]\n",
            "[1, 3]\n",
            "[1, 3, 3]\n",
            "[1, 3]\n",
            "[3, 1]\n",
            "[1, 3]\n",
            "[1, 2, 3]\n",
            "[1, 2]\n"
          ],
          "name": "stdout"
        }
      ]
    },
    {
      "cell_type": "code",
      "metadata": {
        "colab": {
          "base_uri": "https://localhost:8080/"
        },
        "id": "kKx3IScQMlfe",
        "outputId": "bb3e1e60-4d9d-47d8-ae72-2a9fef4cc5e9"
      },
      "source": [
        "for i in range(5):\n",
        "  print(i)"
      ],
      "execution_count": null,
      "outputs": [
        {
          "output_type": "stream",
          "text": [
            "0\n",
            "1\n",
            "2\n",
            "3\n",
            "4\n"
          ],
          "name": "stdout"
        }
      ]
    },
    {
      "cell_type": "code",
      "metadata": {
        "colab": {
          "base_uri": "https://localhost:8080/"
        },
        "id": "jhzvLdZGMqkc",
        "outputId": "1f3c5fe0-2b1c-4262-f136-ded19073953a"
      },
      "source": [
        "print(range(5)) #range returns an iterable object, not a list\n",
        "print(list(range(5)))"
      ],
      "execution_count": null,
      "outputs": [
        {
          "output_type": "stream",
          "text": [
            "range(0, 5)\n",
            "[0, 1, 2, 3, 4]\n"
          ],
          "name": "stdout"
        }
      ]
    },
    {
      "cell_type": "code",
      "metadata": {
        "colab": {
          "base_uri": "https://localhost:8080/"
        },
        "id": "VGnHudbYIxV_",
        "outputId": "13c3d003-bdea-4635-cd35-584db6616b3d"
      },
      "source": [
        "#lists as stacks\n",
        "\n",
        "def print_stack(stack):\n",
        "  for x in stack[::-1]:\n",
        "    print('|',x,'|')\n",
        "  print('-----\\n')\n",
        "\n",
        "stack = []\n",
        "stack.append(1)\n",
        "stack.append(2)\n",
        "stack.append(3)\n",
        "print_stack(stack)\n",
        "stack.pop()\n",
        "print_stack(stack)\n",
        "stack.pop()\n",
        "stack.append(4)\n",
        "print_stack(stack)\n"
      ],
      "execution_count": null,
      "outputs": [
        {
          "output_type": "stream",
          "text": [
            "| 3 |\n",
            "| 2 |\n",
            "| 1 |\n",
            "-----\n",
            "\n",
            "| 2 |\n",
            "| 1 |\n",
            "-----\n",
            "\n",
            "| 4 |\n",
            "| 1 |\n",
            "-----\n",
            "\n"
          ],
          "name": "stdout"
        }
      ]
    },
    {
      "cell_type": "code",
      "metadata": {
        "colab": {
          "base_uri": "https://localhost:8080/"
        },
        "id": "L8MIegROKzMG",
        "outputId": "e8976e50-5de1-4586-874c-1c394c0f7d5f"
      },
      "source": [
        "#using lists as queues is not efficient because removing the first element is expensive as all other elements\n",
        "#have to be shifted by one\n",
        "#to implement queue use collections.deque\n",
        "from collections import deque\n",
        "queue = deque(['Harry','Ron','Hermione']);\n",
        "queue.append('Neville')\n",
        "queue.append('Dean')\n",
        "queue.popleft()\n",
        "queue.popleft()\n",
        "print(list(queue))"
      ],
      "execution_count": null,
      "outputs": [
        {
          "output_type": "stream",
          "text": [
            "['Hermione', 'Neville', 'Dean']\n"
          ],
          "name": "stdout"
        }
      ]
    },
    {
      "cell_type": "code",
      "metadata": {
        "colab": {
          "base_uri": "https://localhost:8080/",
          "height": 264
        },
        "id": "frIXXoSOLwVx",
        "outputId": "c13000e4-9d54-4e29-e32c-02d8d8728643"
      },
      "source": [
        "#list comprehensions are useful for conciseness, readability and curtailing unintended side-effects\n",
        "\n",
        "squares = []\n",
        "for x in range(4):\n",
        "  squares.append(x**2)\n",
        "print(squares)\n",
        "print(x) #x exists outside the for loop resulting in unintended side-effect\n",
        "\n",
        "squares = [y**2 for y in range(5)]\n",
        "print(squares)\n",
        "print(y) #y doesn't exist outside of the list comprehension\n"
      ],
      "execution_count": null,
      "outputs": [
        {
          "output_type": "stream",
          "text": [
            "[0, 1, 4, 9]\n",
            "3\n",
            "[0, 1, 4, 9, 16]\n"
          ],
          "name": "stdout"
        },
        {
          "output_type": "error",
          "ename": "NameError",
          "evalue": "ignored",
          "traceback": [
            "\u001b[0;31m---------------------------------------------------------------------------\u001b[0m",
            "\u001b[0;31mNameError\u001b[0m                                 Traceback (most recent call last)",
            "\u001b[0;32m<ipython-input-27-1cc5b0523c19>\u001b[0m in \u001b[0;36m<module>\u001b[0;34m()\u001b[0m\n\u001b[1;32m      7\u001b[0m \u001b[0msquares\u001b[0m \u001b[0;34m=\u001b[0m \u001b[0;34m[\u001b[0m\u001b[0my\u001b[0m\u001b[0;34m**\u001b[0m\u001b[0;36m2\u001b[0m \u001b[0;32mfor\u001b[0m \u001b[0my\u001b[0m \u001b[0;32min\u001b[0m \u001b[0mrange\u001b[0m\u001b[0;34m(\u001b[0m\u001b[0;36m5\u001b[0m\u001b[0;34m)\u001b[0m\u001b[0;34m]\u001b[0m\u001b[0;34m\u001b[0m\u001b[0;34m\u001b[0m\u001b[0m\n\u001b[1;32m      8\u001b[0m \u001b[0mprint\u001b[0m\u001b[0;34m(\u001b[0m\u001b[0msquares\u001b[0m\u001b[0;34m)\u001b[0m\u001b[0;34m\u001b[0m\u001b[0;34m\u001b[0m\u001b[0m\n\u001b[0;32m----> 9\u001b[0;31m \u001b[0mprint\u001b[0m\u001b[0;34m(\u001b[0m\u001b[0my\u001b[0m\u001b[0;34m)\u001b[0m\u001b[0;34m\u001b[0m\u001b[0;34m\u001b[0m\u001b[0m\n\u001b[0m",
            "\u001b[0;31mNameError\u001b[0m: name 'y' is not defined"
          ]
        }
      ]
    },
    {
      "cell_type": "code",
      "metadata": {
        "colab": {
          "base_uri": "https://localhost:8080/"
        },
        "id": "xjVg6siVT-E9",
        "outputId": "4f5be01a-f2c3-4018-fc93-dac902d9a5d9"
      },
      "source": [
        "res = [(x, y) for x in [1,2,3] for y in [3,1,4] if x != y]\n",
        "print(res)\n",
        "\n",
        "#this is equivalent to:\n",
        "\n",
        "res = []\n",
        "\n",
        "for x in [1,2,3]:\n",
        "  for y in [3,1,4]:\n",
        "    if x != y:\n",
        "      res.append((x,y))\n",
        "print(res)"
      ],
      "execution_count": null,
      "outputs": [
        {
          "output_type": "stream",
          "text": [
            "[(1, 3), (1, 4), (2, 3), (2, 1), (2, 4), (3, 1), (3, 4)]\n",
            "[(1, 3), (1, 4), (2, 3), (2, 1), (2, 4), (3, 1), (3, 4)]\n"
          ],
          "name": "stdout"
        }
      ]
    },
    {
      "cell_type": "code",
      "metadata": {
        "colab": {
          "base_uri": "https://localhost:8080/"
        },
        "id": "Q52Sj6HlUcYl",
        "outputId": "2bcd8f85-5c64-4d79-93e7-3d938879a8b4"
      },
      "source": [
        "matrix = [\n",
        "          [1,2,3,4],\n",
        "          [5,6,7,8],\n",
        "          [9,10,11,12]]\n",
        "\n",
        "transposed_matrix = [[row[i] for row in matrix] for i in range(4)]\n",
        "print(transposed_matrix)\n",
        "\n",
        "#this is equivalent to\n",
        "\n",
        "transposed_matrix = []\n",
        "for i in range(4):\n",
        "  transposed_row = []\n",
        "  for row in matrix:\n",
        "    transposed_row.append(row[i])\n",
        "  transposed_matrix.append(transposed_row)\n",
        "\n",
        "print(transposed_matrix)"
      ],
      "execution_count": null,
      "outputs": [
        {
          "output_type": "stream",
          "text": [
            "[[1, 5, 9], [2, 6, 10], [3, 7, 11], [4, 8, 12]]\n",
            "[[1, 5, 9], [2, 6, 10], [3, 7, 11], [4, 8, 12]]\n"
          ],
          "name": "stdout"
        }
      ]
    },
    {
      "cell_type": "code",
      "metadata": {
        "colab": {
          "base_uri": "https://localhost:8080/"
        },
        "id": "qIHaneRkCFoH",
        "outputId": "d679522b-73b1-4148-c590-fe6c1d642d99"
      },
      "source": [
        "#looping with enumerate\n",
        "for i, row in enumerate(matrix):\n",
        "  print('{}th row: '.format(i),end='')\n",
        "  print(matrix[i], end='\\n')"
      ],
      "execution_count": null,
      "outputs": [
        {
          "output_type": "stream",
          "text": [
            "0th row: [1, 2, 3, 4]\n",
            "1th row: [5, 6, 7, 8]\n",
            "2th row: [9, 10, 11, 12]\n"
          ],
          "name": "stdout"
        }
      ]
    },
    {
      "cell_type": "code",
      "metadata": {
        "colab": {
          "base_uri": "https://localhost:8080/"
        },
        "id": "Rsx2LjPTCv_8",
        "outputId": "ce1c4d6a-f749-4b08-be2c-c076be83cf26"
      },
      "source": [
        "#looping with zip\n",
        "a = [1,2,3]\n",
        "b = [4,5,6]\n",
        "print(list(zip(a,b)))\n",
        "c = [7,8]\n",
        "print(list(zip(a,c)))\n",
        "\n",
        "for x, y in zip(a,b):\n",
        "  print('{} -> {}'.format(x,y))"
      ],
      "execution_count": null,
      "outputs": [
        {
          "output_type": "stream",
          "text": [
            "[(1, 4), (2, 5), (3, 6)]\n",
            "[(1, 7), (2, 8)]\n",
            "1 -> 4\n",
            "2 -> 5\n",
            "3 -> 6\n"
          ],
          "name": "stdout"
        }
      ]
    }
  ]
}