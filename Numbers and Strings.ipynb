{
  "nbformat": 4,
  "nbformat_minor": 0,
  "metadata": {
    "colab": {
      "name": "Python_Numbers, Strings and Lists.ipynb",
      "provenance": [],
      "authorship_tag": "ABX9TyP58dZTj33UceS6CyfFor2w",
      "include_colab_link": true
    },
    "kernelspec": {
      "name": "python3",
      "display_name": "Python 3"
    }
  },
  "cells": [
    {
      "cell_type": "markdown",
      "metadata": {
        "id": "view-in-github",
        "colab_type": "text"
      },
      "source": [
        "<a href=\"https://colab.research.google.com/github/fahim5466/Python-Practice/blob/main/Numbers%20and%20Strings.ipynb\" target=\"_parent\"><img src=\"https://colab.research.google.com/assets/colab-badge.svg\" alt=\"Open In Colab\"/></a>"
      ]
    },
    {
      "cell_type": "code",
      "metadata": {
        "colab": {
          "base_uri": "https://localhost:8080/"
        },
        "id": "xDWGhYy0UiGu",
        "outputId": "2b7af672-c25e-4c04-8fad-1d7c8843d5fb"
      },
      "source": [
        "#Division in pythons always returns float\r\n",
        "print(12/5)\r\n",
        "\r\n",
        "# // operator performs floor division and returns int\r\n",
        "print(12//5)\r\n",
        "\r\n",
        "# ** operator performs power operation\r\n",
        "print(3**2)"
      ],
      "execution_count": 5,
      "outputs": [
        {
          "output_type": "stream",
          "text": [
            "2.4\n",
            "2\n",
            "9\n"
          ],
          "name": "stdout"
        }
      ]
    },
    {
      "cell_type": "code",
      "metadata": {
        "colab": {
          "base_uri": "https://localhost:8080/"
        },
        "id": "YpzKkHwnHMbO",
        "outputId": "90311f20-c634-4e26-f329-b761920fe744"
      },
      "source": [
        "#Both single and double qoutes can be used for strings but it has to be escaped with backslash inside the string\r\n",
        "print('doesn\\'t')\r\n",
        "print(\"doesn't\")\r\n",
        "print(\"\\\"Yes\\\", they said\")\r\n",
        "print('\"Yes\", they said')\r\n",
        "print('\"doesn\\'t\", they said')\r\n",
        "print('C:\\\\users\\\\local\\\\bin')"
      ],
      "execution_count": 8,
      "outputs": [
        {
          "output_type": "stream",
          "text": [
            "doesn't\n",
            "doesn't\n",
            "\"Yes\", they said\n",
            "\"Yes\", they said\n",
            "\"doesn't\", they said\n",
            "C:\\users\\local\\bin\n"
          ],
          "name": "stdout"
        }
      ]
    },
    {
      "cell_type": "code",
      "metadata": {
        "colab": {
          "base_uri": "https://localhost:8080/"
        },
        "id": "3hj7bko_MX4X",
        "outputId": "9b6e406b-545e-4121-e8f9-0b7d2db43b64"
      },
      "source": [
        "#String literals can span multiple lines. One way is using triple-quotes: \"\"\"...\"\"\" or '''...'''. \r\n",
        "#End of lines are automatically included in the string, but it’s possible to prevent this by adding a \\ at the end of the line.\r\n",
        "print(\"\"\"\\\r\n",
        "Hello\r\n",
        "I\r\n",
        "am\\\r\n",
        " a\r\n",
        "multiline\r\n",
        "string\r\n",
        "\"\"\")"
      ],
      "execution_count": 13,
      "outputs": [
        {
          "output_type": "stream",
          "text": [
            "Hello\n",
            "I\n",
            "am a\n",
            "multiline\n",
            "string\n",
            "\n"
          ],
          "name": "stdout"
        }
      ]
    },
    {
      "cell_type": "code",
      "metadata": {
        "colab": {
          "base_uri": "https://localhost:8080/"
        },
        "id": "thODyxh3OcaA",
        "outputId": "3c4fb85b-acdf-44fb-cfd0-9972636842b3"
      },
      "source": [
        "# * can be used to repeat a string\r\n",
        "print(4*'Hello')\r\n",
        "\r\n",
        "# negative indexes count from the right\r\n",
        "s = 'Hello World'\r\n",
        "print(s[-1], s[-3])\r\n",
        "\r\n",
        "# range index\r\n",
        "print(s[2:5]) #starting from 2(included) to 5(excluded)"
      ],
      "execution_count": 14,
      "outputs": [
        {
          "output_type": "stream",
          "text": [
            "HelloHelloHelloHello\n",
            "d r\n",
            "llo\n"
          ],
          "name": "stdout"
        }
      ]
    },
    {
      "cell_type": "code",
      "metadata": {
        "id": "FmrWsWGIPwXF"
      },
      "source": [
        "#Python strings are immutable. So for example this isn't allowed:\r\n",
        "s = 'Hello'\r\n",
        "s[0]='J'"
      ],
      "execution_count": null,
      "outputs": []
    },
    {
      "cell_type": "code",
      "metadata": {
        "colab": {
          "base_uri": "https://localhost:8080/"
        },
        "id": "rLSDBiaXQIvF",
        "outputId": "115e53cc-4fbf-42e1-c308-2e86838e463d"
      },
      "source": [
        "#You have to do it like this\r\n",
        "s = 'J' + s[1:]\r\n",
        "print(s)"
      ],
      "execution_count": 17,
      "outputs": [
        {
          "output_type": "stream",
          "text": [
            "Jello\n"
          ],
          "name": "stdout"
        }
      ]
    },
    {
      "cell_type": "code",
      "metadata": {
        "colab": {
          "base_uri": "https://localhost:8080/"
        },
        "id": "R7f5XaQNSH8X",
        "outputId": "3b62fa5e-a909-4311-bda7-e9b831bdf63b"
      },
      "source": [
        "s = 'Hello World'\r\n",
        "print(s.center(len(s)+4))\r\n",
        "print(s.center(len(s)+10, '_'))"
      ],
      "execution_count": 24,
      "outputs": [
        {
          "output_type": "stream",
          "text": [
            "  Hello World  \n",
            "_____Hello World_____\n"
          ],
          "name": "stdout"
        }
      ]
    },
    {
      "cell_type": "code",
      "metadata": {
        "colab": {
          "base_uri": "https://localhost:8080/"
        },
        "id": "_gL78Hs9TR5k",
        "outputId": "59aead19-5385-4b96-f4cf-0b0767002a2f"
      },
      "source": [
        "s = 'ab___abab__a_adab'\r\n",
        "print(s.count('ab'))\r\n",
        "print(s.count('ab', 1, -1))\r\n",
        "print(s.find('ab', 1, -1))\r\n",
        "print('ab' in s)"
      ],
      "execution_count": 31,
      "outputs": [
        {
          "output_type": "stream",
          "text": [
            "4\n",
            "2\n",
            "5\n",
            "True\n"
          ],
          "name": "stdout"
        }
      ]
    },
    {
      "cell_type": "code",
      "metadata": {
        "colab": {
          "base_uri": "https://localhost:8080/"
        },
        "id": "n-EkM1miUUy6",
        "outputId": "daa30b80-b668-47e7-c560-a7c492d77698"
      },
      "source": [
        "ss = ['Wordly','Largely','Vocation','Vacation','Hello']\r\n",
        "count = 0\r\n",
        "for  s in ss:\r\n",
        "  if(s.endswith(('ly','tion'))):\r\n",
        "    count+=1\r\n",
        "print(count)"
      ],
      "execution_count": 29,
      "outputs": [
        {
          "output_type": "stream",
          "text": [
            "4\n"
          ],
          "name": "stdout"
        }
      ]
    },
    {
      "cell_type": "code",
      "metadata": {
        "colab": {
          "base_uri": "https://localhost:8080/"
        },
        "id": "Qh1UBX8LXMvr",
        "outputId": "c1f4dc62-144a-4b89-ac76-dddbcbdd88eb"
      },
      "source": [
        "print('{}, {}, {}'.format('a','b','c'))\r\n",
        "print('{0}, {1}, {2}'.format('a','b','c'))\r\n",
        "print('{2}, {1}, {0}'.format('a','b','c'))\r\n",
        "print('{0}, {1}, {0}'.format('a','b','c'))\r\n",
        "print('My name is {firstname} {lastname}'.format(firstname='Jane', lastname='Doe'))\r\n",
        "#Escaping braces\r\n",
        "print('My name is {{Bracey}} {{Braceton}}')"
      ],
      "execution_count": 35,
      "outputs": [
        {
          "output_type": "stream",
          "text": [
            "a, b, c\n",
            "a, b, c\n",
            "c, b, a\n",
            "a, b, a\n",
            "My name is Jane Doe\n",
            "My name is {{Bracey}} {{Braceton}}\n"
          ],
          "name": "stdout"
        }
      ]
    }
  ]
}