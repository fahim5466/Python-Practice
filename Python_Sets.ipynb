{
  "nbformat": 4,
  "nbformat_minor": 0,
  "metadata": {
    "colab": {
      "name": "Python_Sets.ipynb",
      "provenance": [],
      "collapsed_sections": [],
      "authorship_tag": "ABX9TyP/PXylh+jDJ02txVivfNQs",
      "include_colab_link": true
    },
    "kernelspec": {
      "name": "python3",
      "display_name": "Python 3"
    }
  },
  "cells": [
    {
      "cell_type": "markdown",
      "metadata": {
        "id": "view-in-github",
        "colab_type": "text"
      },
      "source": [
        "<a href=\"https://colab.research.google.com/github/fahim5466/Python-Practice/blob/main/Python_Sets.ipynb\" target=\"_parent\"><img src=\"https://colab.research.google.com/assets/colab-badge.svg\" alt=\"Open In Colab\"/></a>"
      ]
    },
    {
      "cell_type": "code",
      "metadata": {
        "colab": {
          "base_uri": "https://localhost:8080/"
        },
        "id": "B--xcKGtZWp8",
        "outputId": "cd0fe248-2ce6-4db3-9ae2-c2442f062528"
      },
      "source": [
        "#a set is an unordered collection with no duplicate elements\n",
        "#sets are created using {} or set()\n",
        "basket = {'apple', 'orange', 'apple', 'pear', 'orange', 'banana'}\n",
        "print(basket)\n",
        "countries = set(['Brazil', 'Argentina', 'USA'])\n",
        "print(countries)\n",
        "#to create an empty set, use set(). Using {} creates an empty dictionary\n",
        "empty_set = set()\n",
        "print(empty_set)\n",
        "#sets can be created using set comprehensions\n",
        "letters = {c for c in 'abracadabra' if c not in 'abc'}\n",
        "print(letters)"
      ],
      "execution_count": null,
      "outputs": [
        {
          "output_type": "stream",
          "text": [
            "{'orange', 'apple', 'pear', 'banana'}\n",
            "{'USA', 'Brazil', 'Argentina'}\n",
            "set()\n",
            "{'r', 'd'}\n"
          ],
          "name": "stdout"
        }
      ]
    },
    {
      "cell_type": "code",
      "metadata": {
        "colab": {
          "base_uri": "https://localhost:8080/"
        },
        "id": "gES9UK_8aqtv",
        "outputId": "6586da74-d14c-4a55-f591-1b40c6745d91"
      },
      "source": [
        "#fast membership testing\n",
        "print('apple' in basket)\n",
        "print('Canada' not in countries)"
      ],
      "execution_count": null,
      "outputs": [
        {
          "output_type": "stream",
          "text": [
            "True\n",
            "True\n"
          ],
          "name": "stdout"
        }
      ]
    },
    {
      "cell_type": "code",
      "metadata": {
        "colab": {
          "base_uri": "https://localhost:8080/"
        },
        "id": "Ohwyl8D0bDg-",
        "outputId": "7a4ad350-c986-472c-e601-ac9f9b3ba8ad"
      },
      "source": [
        "a = set('abracadabra')\n",
        "b = set('alacazam')\n",
        "print(a)\n",
        "print(b)\n",
        "print(a-b) #letters in a but not in b\n",
        "print(a|b) #letters in a or b or in both\n",
        "print(a&b) #letters in both a and b\n",
        "print(a^b) #letters in a or b but not in both\n",
        "print(a.isdisjoint(b)) #return true if the two sets have no elements in common\n",
        "c = set('abc')\n",
        "print(c <= a) #if c is subset of a\n",
        "print(c < a) #if c is proper subset of a\n",
        "print(a >= c) #if a is superset of c\n",
        "print(a > c) #if a is proper superset of c"
      ],
      "execution_count": null,
      "outputs": [
        {
          "output_type": "stream",
          "text": [
            "{'b', 'a', 'd', 'r', 'c'}\n",
            "{'a', 'm', 'c', 'z', 'l'}\n",
            "{'b', 'r', 'd'}\n",
            "{'b', 'a', 'd', 'r', 'm', 'c', 'z', 'l'}\n",
            "{'a', 'c'}\n",
            "{'b', 'z', 'l', 'd', 'r', 'm'}\n",
            "False\n",
            "True\n",
            "True\n",
            "True\n",
            "True\n"
          ],
          "name": "stdout"
        }
      ]
    },
    {
      "cell_type": "code",
      "metadata": {
        "colab": {
          "base_uri": "https://localhost:8080/"
        },
        "id": "UwPvkbsIeK5L",
        "outputId": "808828da-d8e8-4b01-f1f5-384a9debfe5c"
      },
      "source": [
        "basket.add('pineapple')\n",
        "basket.remove('apple') #raises error if element is not present\n",
        "basket.discard('apple') #does not raise error if element is not present\n",
        "print(basket)"
      ],
      "execution_count": null,
      "outputs": [
        {
          "output_type": "stream",
          "text": [
            "{'pineapple', 'pear', 'banana', 'orange'}\n"
          ],
          "name": "stdout"
        }
      ]
    },
    {
      "cell_type": "code",
      "metadata": {
        "colab": {
          "base_uri": "https://localhost:8080/"
        },
        "id": "bJqX8NnQe-aI",
        "outputId": "d91101fa-5651-41d1-ad5f-1cf421a48180"
      },
      "source": [
        "#frozensets are immutable\n",
        "meat = frozenset(['beef','chicken','mutton'])\n",
        "print(meat)"
      ],
      "execution_count": null,
      "outputs": [
        {
          "output_type": "stream",
          "text": [
            "frozenset({'beef', 'mutton', 'chicken'})\n"
          ],
          "name": "stdout"
        }
      ]
    }
  ]
}